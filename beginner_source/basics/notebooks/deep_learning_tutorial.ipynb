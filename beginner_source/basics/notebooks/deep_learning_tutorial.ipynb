{
 "cells": [
  {
   "cell_type": "markdown",
   "metadata": {
    "id": "BzHJZx4m3uD5"
   },
   "source": [
    "Deep Learning with PyTorch: https://github.com/ytiam/tutorials/blob/example_notebooks/beginner_source/nlp/deep_learning_tutorial.py\n",
    "**************************\n",
    "\n",
    "Deep Learning Building Blocks: Affine maps, non-linearities and objectives\n",
    "==========================================================================\n",
    "\n",
    "Deep learning consists of composing linearities with non-linearities in\n",
    "clever ways. The introduction of non-linearities allows for powerful\n",
    "models. In this section, we will play with these core components, make\n",
    "up an objective function, and see how the model is trained."
   ]
  },
  {
   "cell_type": "code",
   "execution_count": 2,
   "metadata": {
    "executionInfo": {
     "elapsed": 6153,
     "status": "ok",
     "timestamp": 1686584453733,
     "user": {
      "displayName": "atanu maity",
      "userId": "05429035846975438358"
     },
     "user_tz": -330
    },
    "id": "UbaS3PWd32UJ"
   },
   "outputs": [],
   "source": [
    "import torch\n",
    "import torch.nn as nn\n",
    "import torch.nn.functional as F\n",
    "import torch.optim as optim"
   ]
  },
  {
   "cell_type": "code",
   "execution_count": 3,
   "metadata": {
    "colab": {
     "base_uri": "https://localhost:8080/"
    },
    "executionInfo": {
     "elapsed": 477,
     "status": "ok",
     "timestamp": 1686584577880,
     "user": {
      "displayName": "atanu maity",
      "userId": "05429035846975438358"
     },
     "user_tz": -330
    },
    "id": "aNNtgQ0Y4MBN",
    "outputId": "a28ec2e4-a663-40ab-f7f7-7d01e5a7d1b9"
   },
   "outputs": [
    {
     "data": {
      "text/plain": [
       "<torch._C.Generator at 0x7f465bb5cd50>"
      ]
     },
     "execution_count": 3,
     "metadata": {},
     "output_type": "execute_result"
    }
   ],
   "source": [
    "torch.manual_seed(1)"
   ]
  },
  {
   "cell_type": "code",
   "execution_count": 4,
   "metadata": {
    "executionInfo": {
     "elapsed": 4,
     "status": "ok",
     "timestamp": 1686584580036,
     "user": {
      "displayName": "atanu maity",
      "userId": "05429035846975438358"
     },
     "user_tz": -330
    },
    "id": "uigSO2pB4mep"
   },
   "outputs": [],
   "source": [
    "lin = nn.Linear(5, 3)  # maps from R^5 to R^3, parameters A, b"
   ]
  },
  {
   "cell_type": "code",
   "execution_count": 5,
   "metadata": {
    "colab": {
     "base_uri": "https://localhost:8080/"
    },
    "executionInfo": {
     "elapsed": 7,
     "status": "ok",
     "timestamp": 1686584580537,
     "user": {
      "displayName": "atanu maity",
      "userId": "05429035846975438358"
     },
     "user_tz": -330
    },
    "id": "0XUF-Dtj5CrL",
    "outputId": "2ab2c4da-7dd5-4677-cf83-e6aaf0b91184"
   },
   "outputs": [
    {
     "data": {
      "text/plain": [
       "Linear(in_features=5, out_features=3, bias=True)"
      ]
     },
     "execution_count": 5,
     "metadata": {},
     "output_type": "execute_result"
    }
   ],
   "source": [
    "lin"
   ]
  },
  {
   "cell_type": "code",
   "execution_count": 6,
   "metadata": {
    "executionInfo": {
     "elapsed": 5,
     "status": "ok",
     "timestamp": 1686584580538,
     "user": {
      "displayName": "atanu maity",
      "userId": "05429035846975438358"
     },
     "user_tz": -330
    },
    "id": "15bMPcbo4_b7"
   },
   "outputs": [],
   "source": [
    "# data is 2x5.  A maps from 5 to 3... can we map \"data\" under A?\n",
    "data = torch.randn(2, 5)"
   ]
  },
  {
   "cell_type": "code",
   "execution_count": 7,
   "metadata": {
    "colab": {
     "base_uri": "https://localhost:8080/"
    },
    "executionInfo": {
     "elapsed": 13,
     "status": "ok",
     "timestamp": 1686584581463,
     "user": {
      "displayName": "atanu maity",
      "userId": "05429035846975438358"
     },
     "user_tz": -330
    },
    "id": "0gYefH_H-5kD",
    "outputId": "cdf5c769-72d0-4ffc-b852-2e9285f78926"
   },
   "outputs": [
    {
     "data": {
      "text/plain": [
       "tensor([[-1.1948,  0.0250, -0.7627,  1.3969, -0.3245],\n",
       "        [ 0.2879,  1.0579,  0.9621,  0.3935,  1.1322]])"
      ]
     },
     "execution_count": 7,
     "metadata": {},
     "output_type": "execute_result"
    }
   ],
   "source": [
    "data"
   ]
  },
  {
   "cell_type": "code",
   "execution_count": 8,
   "metadata": {
    "colab": {
     "base_uri": "https://localhost:8080/"
    },
    "executionInfo": {
     "elapsed": 10,
     "status": "ok",
     "timestamp": 1686584581464,
     "user": {
      "displayName": "atanu maity",
      "userId": "05429035846975438358"
     },
     "user_tz": -330
    },
    "id": "_GXoWCJp7FQr",
    "outputId": "ebdb67a3-9739-4b29-88d5-046768afe364"
   },
   "outputs": [
    {
     "name": "stdout",
     "output_type": "stream",
     "text": [
      "tensor([[ 0.1755, -0.3268, -0.5069],\n",
      "        [-0.6602,  0.2260,  0.1089]], grad_fn=<AddmmBackward>)\n"
     ]
    }
   ],
   "source": [
    "print(lin(data))"
   ]
  },
  {
   "cell_type": "markdown",
   "metadata": {
    "id": "7aEZE9EM9HQv"
   },
   "source": [
    "In pytorch, most non-linearities are in torch.functional (we have it imported as F)\n",
    "Note that non-linearites typically don't have parameters like affine maps do.\n",
    "That is, they don't have weights that are updated during training."
   ]
  },
  {
   "cell_type": "code",
   "execution_count": 9,
   "metadata": {
    "colab": {
     "base_uri": "https://localhost:8080/"
    },
    "executionInfo": {
     "elapsed": 2,
     "status": "ok",
     "timestamp": 1686584583646,
     "user": {
      "displayName": "atanu maity",
      "userId": "05429035846975438358"
     },
     "user_tz": -330
    },
    "id": "TcqEui2p5X-M",
    "outputId": "dce7fecd-2175-440b-9aff-fcc4b124f555"
   },
   "outputs": [
    {
     "name": "stdout",
     "output_type": "stream",
     "text": [
      "tensor([[0.1755, 0.0000, 0.0000],\n",
      "        [0.0000, 0.2260, 0.1089]], grad_fn=<ReluBackward0>)\n"
     ]
    }
   ],
   "source": [
    "print(F.relu(lin(data)))"
   ]
  },
  {
   "cell_type": "code",
   "execution_count": 10,
   "metadata": {
    "executionInfo": {
     "elapsed": 12,
     "status": "ok",
     "timestamp": 1686584584484,
     "user": {
      "displayName": "atanu maity",
      "userId": "05429035846975438358"
     },
     "user_tz": -330
    },
    "id": "yB7-6z3O7uEE"
   },
   "outputs": [],
   "source": [
    "# Softmax is also in torch.nn.functional\n",
    "data = torch.randn(5)"
   ]
  },
  {
   "cell_type": "code",
   "execution_count": 11,
   "metadata": {
    "colab": {
     "base_uri": "https://localhost:8080/"
    },
    "executionInfo": {
     "elapsed": 12,
     "status": "ok",
     "timestamp": 1686584584485,
     "user": {
      "displayName": "atanu maity",
      "userId": "05429035846975438358"
     },
     "user_tz": -330
    },
    "id": "yPbaL1px-zcp",
    "outputId": "31af19a4-a6c7-41da-d1a6-4acf886c5f70"
   },
   "outputs": [
    {
     "data": {
      "text/plain": [
       "tensor([-0.5404, -2.2102,  2.1130, -0.0040,  1.3800])"
      ]
     },
     "execution_count": 11,
     "metadata": {},
     "output_type": "execute_result"
    }
   ],
   "source": [
    "data"
   ]
  },
  {
   "cell_type": "code",
   "execution_count": 12,
   "metadata": {
    "colab": {
     "base_uri": "https://localhost:8080/"
    },
    "executionInfo": {
     "elapsed": 11,
     "status": "ok",
     "timestamp": 1686584584486,
     "user": {
      "displayName": "atanu maity",
      "userId": "05429035846975438358"
     },
     "user_tz": -330
    },
    "id": "jSsM_pKp-xWT",
    "outputId": "2fd46960-3a38-48db-b847-67da6e560ad8"
   },
   "outputs": [
    {
     "name": "stdout",
     "output_type": "stream",
     "text": [
      "tensor([0.0418, 0.0079, 0.5936, 0.0715, 0.2852])\n",
      "tensor(1.)\n",
      "tensor([-3.1749, -4.8447, -0.5215, -2.6385, -1.2545])\n"
     ]
    }
   ],
   "source": [
    "print(F.softmax(data, dim=0))\n",
    "print(F.softmax(data, dim=0).sum())  # Sums to 1 because it is a distribution!\n",
    "print(F.log_softmax(data, dim=0))  # theres also log_softmax\n"
   ]
  },
  {
   "cell_type": "code",
   "execution_count": 13,
   "metadata": {
    "executionInfo": {
     "elapsed": 3,
     "status": "ok",
     "timestamp": 1686584585129,
     "user": {
      "displayName": "atanu maity",
      "userId": "05429035846975438358"
     },
     "user_tz": -330
    },
    "id": "GcucGpDj_HAr"
   },
   "outputs": [],
   "source": [
    "# torch.log_(torch.tensor(0.2377))"
   ]
  },
  {
   "cell_type": "code",
   "execution_count": 14,
   "metadata": {
    "executionInfo": {
     "elapsed": 2,
     "status": "ok",
     "timestamp": 1686584585129,
     "user": {
      "displayName": "atanu maity",
      "userId": "05429035846975438358"
     },
     "user_tz": -330
    },
    "id": "7fcNSgx6_mS_"
   },
   "outputs": [],
   "source": [
    "######################################################################\n",
    "# Example: Logistic Regression Bag-of-Words classifier\n",
    "# ~~~~~~~~~~~~~~~~~~~~~~~~~~~~~~~~~~~~~~~~~~~~~~~~~~~~\n",
    "#\n",
    "# Our model will map a sparse BoW representation to log probabilities over\n",
    "# labels. We assign each word in the vocab an index. For example, say our\n",
    "# entire vocab is two words \"hello\" and \"world\", with indices 0 and 1\n",
    "# respectively. The BoW vector for the sentence \"hello hello hello hello\"\n",
    "# is\n",
    "#\n",
    "# .. math::  \\left[ 4, 0 \\right]\n",
    "#\n",
    "# For \"hello world world hello\", it is\n",
    "#\n",
    "# .. math::  \\left[ 2, 2 \\right]\n",
    "#\n",
    "# etc. In general, it is\n",
    "#\n",
    "# .. math::  \\left[ \\text{Count}(\\text{hello}), \\text{Count}(\\text{world}) \\right]\n",
    "#\n",
    "# Denote this BOW vector as :math:`x`. The output of our network is:\n",
    "#\n",
    "# .. math::  \\log \\text{Softmax}(Ax + b)\n",
    "#\n",
    "# That is, we pass the input through an affine map and then do log\n",
    "# softmax.\n",
    "#"
   ]
  },
  {
   "cell_type": "code",
   "execution_count": 15,
   "metadata": {
    "executionInfo": {
     "elapsed": 9,
     "status": "ok",
     "timestamp": 1686584585840,
     "user": {
      "displayName": "atanu maity",
      "userId": "05429035846975438358"
     },
     "user_tz": -330
    },
    "id": "d6lOFRi04mMw"
   },
   "outputs": [],
   "source": [
    "data = [(\"me gusta comer en la cafeteria\".split(), \"SPANISH\"),\n",
    "        (\"Give it to me\".split(), \"ENGLISH\"),\n",
    "        (\"No creo que sea una buena idea\".split(), \"SPANISH\"),\n",
    "        (\"No it is not a good idea to get lost at sea\".split(), \"ENGLISH\")]"
   ]
  },
  {
   "cell_type": "code",
   "execution_count": 16,
   "metadata": {
    "executionInfo": {
     "elapsed": 7,
     "status": "ok",
     "timestamp": 1686584585841,
     "user": {
      "displayName": "atanu maity",
      "userId": "05429035846975438358"
     },
     "user_tz": -330
    },
    "id": "3p-hfl_Z5C6k"
   },
   "outputs": [],
   "source": [
    "test_data = [(\"Yo creo que si\".split(), \"SPANISH\"),\n",
    "             (\"it is lost on me\".split(), \"ENGLISH\")]"
   ]
  },
  {
   "cell_type": "code",
   "execution_count": 17,
   "metadata": {
    "colab": {
     "base_uri": "https://localhost:8080/"
    },
    "executionInfo": {
     "elapsed": 8,
     "status": "ok",
     "timestamp": 1686584586952,
     "user": {
      "displayName": "atanu maity",
      "userId": "05429035846975438358"
     },
     "user_tz": -330
    },
    "id": "c8L4hnIR5K56",
    "outputId": "3448925a-bbbc-4df3-8d5c-dde820df41f3"
   },
   "outputs": [
    {
     "name": "stdout",
     "output_type": "stream",
     "text": [
      "{'me': 0, 'gusta': 1, 'comer': 2, 'en': 3, 'la': 4, 'cafeteria': 5, 'Give': 6, 'it': 7, 'to': 8, 'No': 9, 'creo': 10, 'que': 11, 'sea': 12, 'una': 13, 'buena': 14, 'idea': 15, 'is': 16, 'not': 17, 'a': 18, 'good': 19, 'get': 20, 'lost': 21, 'at': 22, 'Yo': 23, 'si': 24, 'on': 25}\n"
     ]
    }
   ],
   "source": [
    "# word_to_ix maps each word in the vocab to a unique integer, which will be its\n",
    "# index into the Bag of words vector\n",
    "word_to_ix = {}\n",
    "for sent, _ in data + test_data:\n",
    "    for word in sent:\n",
    "        if word not in word_to_ix:\n",
    "            word_to_ix[word] = len(word_to_ix)\n",
    "print(word_to_ix)"
   ]
  },
  {
   "cell_type": "code",
   "execution_count": 18,
   "metadata": {
    "executionInfo": {
     "elapsed": 4,
     "status": "ok",
     "timestamp": 1686584586952,
     "user": {
      "displayName": "atanu maity",
      "userId": "05429035846975438358"
     },
     "user_tz": -330
    },
    "id": "TVA3Ki3L5Ut8"
   },
   "outputs": [],
   "source": [
    "VOCAB_SIZE = len(word_to_ix)\n",
    "NUM_LABELS = 2"
   ]
  },
  {
   "cell_type": "code",
   "execution_count": 19,
   "metadata": {
    "executionInfo": {
     "elapsed": 5,
     "status": "ok",
     "timestamp": 1686584586953,
     "user": {
      "displayName": "atanu maity",
      "userId": "05429035846975438358"
     },
     "user_tz": -330
    },
    "id": "8plz32Gj5Z6s"
   },
   "outputs": [],
   "source": [
    "# class BoWClassifier(nn.Module):  # inheriting from nn.Module!\n",
    "\n",
    "#     def __init__(self, num_labels, vocab_size):\n",
    "#         # calls the init function of nn.Module.  Dont get confused by syntax,\n",
    "#         # just always do it in an nn.Module\n",
    "#         super(BoWClassifier, self).__init__()\n",
    "\n",
    "#         # Define the parameters that you will need.  In this case, we need A and b,\n",
    "#         # the parameters of the affine mapping.\n",
    "#         # Torch defines nn.Linear(), which provides the affine map.\n",
    "#         # Make sure you understand why the input dimension is vocab_size\n",
    "#         # and the output is num_labels!\n",
    "#         self.linear = nn.Linear(vocab_size, num_labels)\n",
    "\n",
    "#         # NOTE! The non-linearity log softmax does not have parameters! So we don't need\n",
    "#         # to worry about that here\n",
    "\n",
    "#     def forward(self, bow_vec):\n",
    "#         # Pass the input through the linear layer,\n",
    "#         # then pass that through log_softmax.\n",
    "#         # Many non-linearities and other functions are in torch.nn.functional\n",
    "#         return F.log_softmax(self.linear(bow_vec), dim=1)"
   ]
  },
  {
   "cell_type": "code",
   "execution_count": 20,
   "metadata": {
    "executionInfo": {
     "elapsed": 5,
     "status": "ok",
     "timestamp": 1686584587577,
     "user": {
      "displayName": "atanu maity",
      "userId": "05429035846975438358"
     },
     "user_tz": -330
    },
    "id": "kofebTd25ZaD"
   },
   "outputs": [],
   "source": [
    "class BoWClassifier_(nn.Module):\n",
    "\n",
    "  def __init__(self,num_labels, vocab_size):\n",
    "    super(BoWClassifier_,self).__init__()\n",
    "    self.linear = nn.Linear(vocab_size,num_labels)\n",
    "\n",
    "  def forward(self, bow_vec):\n",
    "        return F.log_softmax(self.linear(bow_vec), dim=1)"
   ]
  },
  {
   "cell_type": "code",
   "execution_count": 21,
   "metadata": {
    "executionInfo": {
     "elapsed": 5,
     "status": "ok",
     "timestamp": 1686584587578,
     "user": {
      "displayName": "atanu maity",
      "userId": "05429035846975438358"
     },
     "user_tz": -330
    },
    "id": "KUgPKToY8_LZ"
   },
   "outputs": [],
   "source": [
    "def make_bow_vector(sentence, word_to_ix):\n",
    "    vec = torch.zeros(len(word_to_ix))\n",
    "    for word in sentence:\n",
    "        vec[word_to_ix[word]] += 1\n",
    "    return vec.view(1, -1)"
   ]
  },
  {
   "cell_type": "code",
   "execution_count": 22,
   "metadata": {
    "executionInfo": {
     "elapsed": 5,
     "status": "ok",
     "timestamp": 1686584587579,
     "user": {
      "displayName": "atanu maity",
      "userId": "05429035846975438358"
     },
     "user_tz": -330
    },
    "id": "1l5pTYGL77y1"
   },
   "outputs": [],
   "source": [
    "model = BoWClassifier_(NUM_LABELS, VOCAB_SIZE)"
   ]
  },
  {
   "cell_type": "code",
   "execution_count": 23,
   "metadata": {
    "colab": {
     "base_uri": "https://localhost:8080/"
    },
    "executionInfo": {
     "elapsed": 5,
     "status": "ok",
     "timestamp": 1686584589627,
     "user": {
      "displayName": "atanu maity",
      "userId": "05429035846975438358"
     },
     "user_tz": -330
    },
    "id": "gEPI3fuW-1au",
    "outputId": "721509d6-c1c2-463a-8c6c-0399ac2fe2fc"
   },
   "outputs": [
    {
     "data": {
      "text/plain": [
       "tensor([[-0.6866, -0.6998]], grad_fn=<LogSoftmaxBackward>)"
      ]
     },
     "execution_count": 23,
     "metadata": {},
     "output_type": "execute_result"
    }
   ],
   "source": [
    "model(make_bow_vector(\"Yo creo que si\".split(),word_to_ix))"
   ]
  },
  {
   "cell_type": "markdown",
   "metadata": {
    "id": "T8om9UM9-C0l"
   },
   "source": [
    "the model knows its parameters.  The first output below is A, the second is b. Whenever you assign a component to a class variable in the __init__ function of a module, which was done with the line\n",
    "# self.linear = nn.Linear(...)\n",
    "Then through some Python magic from the PyTorch devs, your module (in this case, BoWClassifier) will store knowledge of the nn.Linear's parameters"
   ]
  },
  {
   "cell_type": "code",
   "execution_count": 24,
   "metadata": {
    "colab": {
     "base_uri": "https://localhost:8080/"
    },
    "executionInfo": {
     "elapsed": 5,
     "status": "ok",
     "timestamp": 1686584592139,
     "user": {
      "displayName": "atanu maity",
      "userId": "05429035846975438358"
     },
     "user_tz": -330
    },
    "id": "EoLRqSFK-aBe",
    "outputId": "18bc6257-60a2-4b3f-e7ce-8f5c27ca5be4"
   },
   "outputs": [
    {
     "name": "stdout",
     "output_type": "stream",
     "text": [
      "Parameter containing:\n",
      "tensor([[-0.1885, -0.0935,  0.1064, -0.0477,  0.1953,  0.1572, -0.0092, -0.1309,\n",
      "          0.1194,  0.0609, -0.1268,  0.1274,  0.1191,  0.1739, -0.1099, -0.0323,\n",
      "         -0.0038,  0.0286, -0.1488, -0.1392,  0.1067, -0.0460,  0.0958,  0.0112,\n",
      "          0.0644,  0.0431],\n",
      "        [ 0.0713,  0.0972, -0.1816,  0.0987, -0.1379, -0.1480,  0.0119, -0.0334,\n",
      "          0.1152, -0.1136, -0.1743,  0.1427, -0.0291,  0.1103,  0.0630, -0.1471,\n",
      "          0.0394,  0.0471, -0.1313, -0.0931,  0.0669,  0.0351, -0.0834, -0.0594,\n",
      "          0.1796, -0.0363]], requires_grad=True)\n",
      "Parameter containing:\n",
      "tensor([0.1106, 0.0849], requires_grad=True)\n"
     ]
    }
   ],
   "source": [
    "for param in model.parameters():\n",
    "    print(param)"
   ]
  },
  {
   "cell_type": "code",
   "execution_count": 25,
   "metadata": {
    "colab": {
     "base_uri": "https://localhost:8080/"
    },
    "executionInfo": {
     "elapsed": 6,
     "status": "ok",
     "timestamp": 1686584594212,
     "user": {
      "displayName": "atanu maity",
      "userId": "05429035846975438358"
     },
     "user_tz": -330
    },
    "id": "MOOHLA36_6w2",
    "outputId": "1ac74763-121a-4634-e39b-cb82742b4f7a"
   },
   "outputs": [
    {
     "name": "stdout",
     "output_type": "stream",
     "text": [
      "tensor([[-0.5313, -0.8864]])\n"
     ]
    }
   ],
   "source": [
    "# To run the model, pass in a BoW vector\n",
    "# Here we don't need to train, so the code is wrapped in torch.no_grad()\n",
    "with torch.no_grad():\n",
    "    sample = data[0]\n",
    "    bow_vector = make_bow_vector(sample[0], word_to_ix)\n",
    "    log_probs = model(bow_vector)\n",
    "    print(log_probs)"
   ]
  },
  {
   "cell_type": "code",
   "execution_count": 26,
   "metadata": {
    "executionInfo": {
     "elapsed": 5,
     "status": "ok",
     "timestamp": 1686584594867,
     "user": {
      "displayName": "atanu maity",
      "userId": "05429035846975438358"
     },
     "user_tz": -330
    },
    "id": "Id5IxnEVAdBT"
   },
   "outputs": [],
   "source": [
    "def make_target(label, label_to_ix):\n",
    "    return torch.LongTensor([label_to_ix[label]])"
   ]
  },
  {
   "cell_type": "code",
   "execution_count": 27,
   "metadata": {
    "executionInfo": {
     "elapsed": 3,
     "status": "ok",
     "timestamp": 1686584594867,
     "user": {
      "displayName": "atanu maity",
      "userId": "05429035846975438358"
     },
     "user_tz": -330
    },
    "id": "lyAoU8e4AgGB"
   },
   "outputs": [],
   "source": [
    "# Which of the above values corresponds to the log probability of ENGLISH,\n",
    "# and which to SPANISH? We never defined it, but we need to if we want to\n",
    "# train the thing.\n",
    "\n",
    "label_to_ix = {\"SPANISH\": 0, \"ENGLISH\": 1}"
   ]
  },
  {
   "cell_type": "code",
   "execution_count": 28,
   "metadata": {
    "colab": {
     "base_uri": "https://localhost:8080/"
    },
    "executionInfo": {
     "elapsed": 4,
     "status": "ok",
     "timestamp": 1686584596239,
     "user": {
      "displayName": "atanu maity",
      "userId": "05429035846975438358"
     },
     "user_tz": -330
    },
    "id": "ItlVsqXzCB0v",
    "outputId": "dfc7d8e0-8787-487d-d14d-a2aa7feb7f2b"
   },
   "outputs": [
    {
     "name": "stdout",
     "output_type": "stream",
     "text": [
      "tensor([[-0.6866, -0.6998]])\n",
      "tensor([[-0.8991, -0.5225]])\n"
     ]
    }
   ],
   "source": [
    "# Run on test data before we train, just to see a before-and-after\n",
    "with torch.no_grad():\n",
    "    for instance, label in test_data:\n",
    "        bow_vec = make_bow_vector(instance, word_to_ix)\n",
    "        log_probs = model(bow_vec)\n",
    "        print(log_probs)"
   ]
  },
  {
   "cell_type": "code",
   "execution_count": 29,
   "metadata": {
    "colab": {
     "base_uri": "https://localhost:8080/"
    },
    "executionInfo": {
     "elapsed": 5,
     "status": "ok",
     "timestamp": 1686584597274,
     "user": {
      "displayName": "atanu maity",
      "userId": "05429035846975438358"
     },
     "user_tz": -330
    },
    "id": "V2fw4uHUjX07",
    "outputId": "02610c4c-1163-4004-9406-030c1bebe32b"
   },
   "outputs": [
    {
     "name": "stdout",
     "output_type": "stream",
     "text": [
      "tensor([-0.1268, -0.1743], grad_fn=<SelectBackward>)\n"
     ]
    }
   ],
   "source": [
    "# Print the matrix column corresponding to \"creo\"\n",
    "print(next(model.parameters())[:, word_to_ix[\"creo\"]])"
   ]
  },
  {
   "cell_type": "code",
   "execution_count": 30,
   "metadata": {
    "executionInfo": {
     "elapsed": 5,
     "status": "ok",
     "timestamp": 1686584597752,
     "user": {
      "displayName": "atanu maity",
      "userId": "05429035846975438358"
     },
     "user_tz": -330
    },
    "id": "MJ-75XQ1j0An"
   },
   "outputs": [],
   "source": [
    "loss_function = nn.NLLLoss()\n",
    "optimizer = optim.SGD(model.parameters(), lr=0.1)"
   ]
  },
  {
   "cell_type": "code",
   "execution_count": 31,
   "metadata": {
    "colab": {
     "base_uri": "https://localhost:8080/"
    },
    "executionInfo": {
     "elapsed": 1486,
     "status": "ok",
     "timestamp": 1686584600662,
     "user": {
      "displayName": "atanu maity",
      "userId": "05429035846975438358"
     },
     "user_tz": -330
    },
    "id": "lEwFPYejlPSw",
    "outputId": "3565000e-4c6d-4eca-b5ae-8b8cd370df0d"
   },
   "outputs": [
    {
     "name": "stdout",
     "output_type": "stream",
     "text": [
      "loss... tensor(0.5313, grad_fn=<NllLossBackward>)\n",
      "loss... tensor(0.6055, grad_fn=<NllLossBackward>)\n",
      "loss... tensor(0.5221, grad_fn=<NllLossBackward>)\n",
      "loss... tensor(0.9851, grad_fn=<NllLossBackward>)\n",
      "loss... tensor(0.4010, grad_fn=<NllLossBackward>)\n",
      "loss... tensor(0.3710, grad_fn=<NllLossBackward>)\n",
      "loss... tensor(0.4625, grad_fn=<NllLossBackward>)\n",
      "loss... tensor(0.3311, grad_fn=<NllLossBackward>)\n",
      "loss... tensor(0.2968, grad_fn=<NllLossBackward>)\n",
      "loss... tensor(0.2867, grad_fn=<NllLossBackward>)\n",
      "loss... tensor(0.3413, grad_fn=<NllLossBackward>)\n",
      "loss... tensor(0.1951, grad_fn=<NllLossBackward>)\n",
      "loss... tensor(0.2316, grad_fn=<NllLossBackward>)\n",
      "loss... tensor(0.2372, grad_fn=<NllLossBackward>)\n",
      "loss... tensor(0.2588, grad_fn=<NllLossBackward>)\n",
      "loss... tensor(0.1395, grad_fn=<NllLossBackward>)\n",
      "loss... tensor(0.1891, grad_fn=<NllLossBackward>)\n",
      "loss... tensor(0.2028, grad_fn=<NllLossBackward>)\n",
      "loss... tensor(0.2055, grad_fn=<NllLossBackward>)\n",
      "loss... tensor(0.1087, grad_fn=<NllLossBackward>)\n",
      "loss... tensor(0.1597, grad_fn=<NllLossBackward>)\n",
      "loss... tensor(0.1770, grad_fn=<NllLossBackward>)\n",
      "loss... tensor(0.1694, grad_fn=<NllLossBackward>)\n",
      "loss... tensor(0.0889, grad_fn=<NllLossBackward>)\n",
      "loss... tensor(0.1381, grad_fn=<NllLossBackward>)\n",
      "loss... tensor(0.1570, grad_fn=<NllLossBackward>)\n",
      "loss... tensor(0.1436, grad_fn=<NllLossBackward>)\n",
      "loss... tensor(0.0751, grad_fn=<NllLossBackward>)\n",
      "loss... tensor(0.1217, grad_fn=<NllLossBackward>)\n",
      "loss... tensor(0.1409, grad_fn=<NllLossBackward>)\n",
      "loss... tensor(0.1245, grad_fn=<NllLossBackward>)\n",
      "loss... tensor(0.0650, grad_fn=<NllLossBackward>)\n",
      "loss... tensor(0.1088, grad_fn=<NllLossBackward>)\n",
      "loss... tensor(0.1278, grad_fn=<NllLossBackward>)\n",
      "loss... tensor(0.1098, grad_fn=<NllLossBackward>)\n",
      "loss... tensor(0.0572, grad_fn=<NllLossBackward>)\n",
      "loss... tensor(0.0984, grad_fn=<NllLossBackward>)\n",
      "loss... tensor(0.1169, grad_fn=<NllLossBackward>)\n",
      "loss... tensor(0.0981, grad_fn=<NllLossBackward>)\n",
      "loss... tensor(0.0510, grad_fn=<NllLossBackward>)\n",
      "loss... tensor(0.0898, grad_fn=<NllLossBackward>)\n",
      "loss... tensor(0.1076, grad_fn=<NllLossBackward>)\n",
      "loss... tensor(0.0886, grad_fn=<NllLossBackward>)\n",
      "loss... tensor(0.0460, grad_fn=<NllLossBackward>)\n",
      "loss... tensor(0.0826, grad_fn=<NllLossBackward>)\n",
      "loss... tensor(0.0997, grad_fn=<NllLossBackward>)\n",
      "loss... tensor(0.0808, grad_fn=<NllLossBackward>)\n",
      "loss... tensor(0.0419, grad_fn=<NllLossBackward>)\n",
      "loss... tensor(0.0764, grad_fn=<NllLossBackward>)\n",
      "loss... tensor(0.0929, grad_fn=<NllLossBackward>)\n",
      "loss... tensor(0.0742, grad_fn=<NllLossBackward>)\n",
      "loss... tensor(0.0384, grad_fn=<NllLossBackward>)\n",
      "loss... tensor(0.0712, grad_fn=<NllLossBackward>)\n",
      "loss... tensor(0.0869, grad_fn=<NllLossBackward>)\n",
      "loss... tensor(0.0686, grad_fn=<NllLossBackward>)\n",
      "loss... tensor(0.0355, grad_fn=<NllLossBackward>)\n",
      "loss... tensor(0.0666, grad_fn=<NllLossBackward>)\n",
      "loss... tensor(0.0816, grad_fn=<NllLossBackward>)\n",
      "loss... tensor(0.0638, grad_fn=<NllLossBackward>)\n",
      "loss... tensor(0.0330, grad_fn=<NllLossBackward>)\n",
      "loss... tensor(0.0625, grad_fn=<NllLossBackward>)\n",
      "loss... tensor(0.0770, grad_fn=<NllLossBackward>)\n",
      "loss... tensor(0.0596, grad_fn=<NllLossBackward>)\n",
      "loss... tensor(0.0307, grad_fn=<NllLossBackward>)\n",
      "loss... tensor(0.0589, grad_fn=<NllLossBackward>)\n",
      "loss... tensor(0.0728, grad_fn=<NllLossBackward>)\n",
      "loss... tensor(0.0559, grad_fn=<NllLossBackward>)\n",
      "loss... tensor(0.0288, grad_fn=<NllLossBackward>)\n",
      "loss... tensor(0.0558, grad_fn=<NllLossBackward>)\n",
      "loss... tensor(0.0691, grad_fn=<NllLossBackward>)\n",
      "loss... tensor(0.0526, grad_fn=<NllLossBackward>)\n",
      "loss... tensor(0.0271, grad_fn=<NllLossBackward>)\n",
      "loss... tensor(0.0529, grad_fn=<NllLossBackward>)\n",
      "loss... tensor(0.0657, grad_fn=<NllLossBackward>)\n",
      "loss... tensor(0.0497, grad_fn=<NllLossBackward>)\n",
      "loss... tensor(0.0256, grad_fn=<NllLossBackward>)\n",
      "loss... tensor(0.0503, grad_fn=<NllLossBackward>)\n",
      "loss... tensor(0.0626, grad_fn=<NllLossBackward>)\n",
      "loss... tensor(0.0471, grad_fn=<NllLossBackward>)\n",
      "loss... tensor(0.0242, grad_fn=<NllLossBackward>)\n",
      "loss... tensor(0.0480, grad_fn=<NllLossBackward>)\n",
      "loss... tensor(0.0598, grad_fn=<NllLossBackward>)\n",
      "loss... tensor(0.0448, grad_fn=<NllLossBackward>)\n",
      "loss... tensor(0.0230, grad_fn=<NllLossBackward>)\n",
      "loss... tensor(0.0458, grad_fn=<NllLossBackward>)\n",
      "loss... tensor(0.0572, grad_fn=<NllLossBackward>)\n",
      "loss... tensor(0.0426, grad_fn=<NllLossBackward>)\n",
      "loss... tensor(0.0219, grad_fn=<NllLossBackward>)\n",
      "loss... tensor(0.0439, grad_fn=<NllLossBackward>)\n",
      "loss... tensor(0.0549, grad_fn=<NllLossBackward>)\n",
      "loss... tensor(0.0407, grad_fn=<NllLossBackward>)\n",
      "loss... tensor(0.0209, grad_fn=<NllLossBackward>)\n",
      "loss... tensor(0.0421, grad_fn=<NllLossBackward>)\n",
      "loss... tensor(0.0527, grad_fn=<NllLossBackward>)\n",
      "loss... tensor(0.0389, grad_fn=<NllLossBackward>)\n",
      "loss... tensor(0.0199, grad_fn=<NllLossBackward>)\n",
      "loss... tensor(0.0404, grad_fn=<NllLossBackward>)\n",
      "loss... tensor(0.0507, grad_fn=<NllLossBackward>)\n",
      "loss... tensor(0.0373, grad_fn=<NllLossBackward>)\n",
      "loss... tensor(0.0191, grad_fn=<NllLossBackward>)\n",
      "loss... tensor(0.0389, grad_fn=<NllLossBackward>)\n",
      "loss... tensor(0.0489, grad_fn=<NllLossBackward>)\n",
      "loss... tensor(0.0358, grad_fn=<NllLossBackward>)\n",
      "loss... tensor(0.0183, grad_fn=<NllLossBackward>)\n",
      "loss... tensor(0.0375, grad_fn=<NllLossBackward>)\n",
      "loss... tensor(0.0471, grad_fn=<NllLossBackward>)\n",
      "loss... tensor(0.0344, grad_fn=<NllLossBackward>)\n",
      "loss... tensor(0.0176, grad_fn=<NllLossBackward>)\n",
      "loss... tensor(0.0362, grad_fn=<NllLossBackward>)\n",
      "loss... tensor(0.0455, grad_fn=<NllLossBackward>)\n",
      "loss... tensor(0.0332, grad_fn=<NllLossBackward>)\n",
      "loss... tensor(0.0169, grad_fn=<NllLossBackward>)\n",
      "loss... tensor(0.0350, grad_fn=<NllLossBackward>)\n",
      "loss... tensor(0.0440, grad_fn=<NllLossBackward>)\n",
      "loss... tensor(0.0320, grad_fn=<NllLossBackward>)\n",
      "loss... tensor(0.0163, grad_fn=<NllLossBackward>)\n",
      "loss... tensor(0.0338, grad_fn=<NllLossBackward>)\n",
      "loss... tensor(0.0426, grad_fn=<NllLossBackward>)\n",
      "loss... tensor(0.0309, grad_fn=<NllLossBackward>)\n",
      "loss... tensor(0.0157, grad_fn=<NllLossBackward>)\n",
      "loss... tensor(0.0327, grad_fn=<NllLossBackward>)\n",
      "loss... tensor(0.0413, grad_fn=<NllLossBackward>)\n",
      "loss... tensor(0.0298, grad_fn=<NllLossBackward>)\n",
      "loss... tensor(0.0152, grad_fn=<NllLossBackward>)\n",
      "loss... tensor(0.0317, grad_fn=<NllLossBackward>)\n",
      "loss... tensor(0.0401, grad_fn=<NllLossBackward>)\n",
      "loss... tensor(0.0289, grad_fn=<NllLossBackward>)\n",
      "loss... tensor(0.0147, grad_fn=<NllLossBackward>)\n",
      "loss... tensor(0.0308, grad_fn=<NllLossBackward>)\n",
      "loss... tensor(0.0389, grad_fn=<NllLossBackward>)\n",
      "loss... tensor(0.0280, grad_fn=<NllLossBackward>)\n",
      "loss... tensor(0.0142, grad_fn=<NllLossBackward>)\n",
      "loss... tensor(0.0299, grad_fn=<NllLossBackward>)\n",
      "loss... tensor(0.0378, grad_fn=<NllLossBackward>)\n",
      "loss... tensor(0.0271, grad_fn=<NllLossBackward>)\n",
      "loss... tensor(0.0138, grad_fn=<NllLossBackward>)\n",
      "loss... tensor(0.0290, grad_fn=<NllLossBackward>)\n",
      "loss... tensor(0.0367, grad_fn=<NllLossBackward>)\n",
      "loss... tensor(0.0263, grad_fn=<NllLossBackward>)\n",
      "loss... tensor(0.0134, grad_fn=<NllLossBackward>)\n",
      "loss... tensor(0.0283, grad_fn=<NllLossBackward>)\n",
      "loss... tensor(0.0358, grad_fn=<NllLossBackward>)\n",
      "loss... tensor(0.0256, grad_fn=<NllLossBackward>)\n",
      "loss... tensor(0.0130, grad_fn=<NllLossBackward>)\n",
      "loss... tensor(0.0275, grad_fn=<NllLossBackward>)\n",
      "loss... tensor(0.0348, grad_fn=<NllLossBackward>)\n",
      "loss... tensor(0.0249, grad_fn=<NllLossBackward>)\n",
      "loss... tensor(0.0126, grad_fn=<NllLossBackward>)\n",
      "loss... tensor(0.0268, grad_fn=<NllLossBackward>)\n",
      "loss... tensor(0.0339, grad_fn=<NllLossBackward>)\n",
      "loss... tensor(0.0242, grad_fn=<NllLossBackward>)\n",
      "loss... tensor(0.0123, grad_fn=<NllLossBackward>)\n",
      "loss... tensor(0.0261, grad_fn=<NllLossBackward>)\n",
      "loss... tensor(0.0331, grad_fn=<NllLossBackward>)\n",
      "loss... tensor(0.0235, grad_fn=<NllLossBackward>)\n",
      "loss... tensor(0.0119, grad_fn=<NllLossBackward>)\n",
      "loss... tensor(0.0255, grad_fn=<NllLossBackward>)\n",
      "loss... tensor(0.0323, grad_fn=<NllLossBackward>)\n",
      "loss... tensor(0.0229, grad_fn=<NllLossBackward>)\n",
      "loss... tensor(0.0116, grad_fn=<NllLossBackward>)\n",
      "loss... tensor(0.0248, grad_fn=<NllLossBackward>)\n",
      "loss... tensor(0.0315, grad_fn=<NllLossBackward>)\n",
      "loss... tensor(0.0224, grad_fn=<NllLossBackward>)\n",
      "loss... tensor(0.0113, grad_fn=<NllLossBackward>)\n",
      "loss... tensor(0.0243, grad_fn=<NllLossBackward>)\n",
      "loss... tensor(0.0308, grad_fn=<NllLossBackward>)\n",
      "loss... tensor(0.0218, grad_fn=<NllLossBackward>)\n",
      "loss... tensor(0.0110, grad_fn=<NllLossBackward>)\n",
      "loss... tensor(0.0237, grad_fn=<NllLossBackward>)\n",
      "loss... tensor(0.0301, grad_fn=<NllLossBackward>)\n",
      "loss... tensor(0.0213, grad_fn=<NllLossBackward>)\n",
      "loss... tensor(0.0108, grad_fn=<NllLossBackward>)\n",
      "loss... tensor(0.0232, grad_fn=<NllLossBackward>)\n",
      "loss... tensor(0.0294, grad_fn=<NllLossBackward>)\n",
      "loss... tensor(0.0208, grad_fn=<NllLossBackward>)\n",
      "loss... tensor(0.0105, grad_fn=<NllLossBackward>)\n",
      "loss... tensor(0.0227, grad_fn=<NllLossBackward>)\n",
      "loss... tensor(0.0288, grad_fn=<NllLossBackward>)\n",
      "loss... tensor(0.0203, grad_fn=<NllLossBackward>)\n",
      "loss... tensor(0.0103, grad_fn=<NllLossBackward>)\n",
      "loss... tensor(0.0222, grad_fn=<NllLossBackward>)\n",
      "loss... tensor(0.0282, grad_fn=<NllLossBackward>)\n",
      "loss... tensor(0.0199, grad_fn=<NllLossBackward>)\n",
      "loss... tensor(0.0100, grad_fn=<NllLossBackward>)\n",
      "loss... tensor(0.0217, grad_fn=<NllLossBackward>)\n",
      "loss... tensor(0.0276, grad_fn=<NllLossBackward>)\n",
      "loss... tensor(0.0194, grad_fn=<NllLossBackward>)\n",
      "loss... tensor(0.0098, grad_fn=<NllLossBackward>)\n",
      "loss... tensor(0.0213, grad_fn=<NllLossBackward>)\n",
      "loss... tensor(0.0270, grad_fn=<NllLossBackward>)\n",
      "loss... tensor(0.0190, grad_fn=<NllLossBackward>)\n",
      "loss... tensor(0.0096, grad_fn=<NllLossBackward>)\n",
      "loss... tensor(0.0208, grad_fn=<NllLossBackward>)\n",
      "loss... tensor(0.0265, grad_fn=<NllLossBackward>)\n",
      "loss... tensor(0.0186, grad_fn=<NllLossBackward>)\n",
      "loss... tensor(0.0094, grad_fn=<NllLossBackward>)\n",
      "loss... tensor(0.0204, grad_fn=<NllLossBackward>)\n",
      "loss... tensor(0.0260, grad_fn=<NllLossBackward>)\n",
      "loss... tensor(0.0182, grad_fn=<NllLossBackward>)\n",
      "loss... tensor(0.0092, grad_fn=<NllLossBackward>)\n",
      "loss... tensor(0.0200, grad_fn=<NllLossBackward>)\n",
      "loss... tensor(0.0255, grad_fn=<NllLossBackward>)\n",
      "loss... tensor(0.0179, grad_fn=<NllLossBackward>)\n",
      "loss... tensor(0.0090, grad_fn=<NllLossBackward>)\n",
      "loss... tensor(0.0196, grad_fn=<NllLossBackward>)\n",
      "loss... tensor(0.0250, grad_fn=<NllLossBackward>)\n",
      "loss... tensor(0.0175, grad_fn=<NllLossBackward>)\n",
      "loss... tensor(0.0088, grad_fn=<NllLossBackward>)\n",
      "loss... tensor(0.0193, grad_fn=<NllLossBackward>)\n",
      "loss... tensor(0.0245, grad_fn=<NllLossBackward>)\n",
      "loss... tensor(0.0172, grad_fn=<NllLossBackward>)\n",
      "loss... tensor(0.0087, grad_fn=<NllLossBackward>)\n",
      "loss... tensor(0.0189, grad_fn=<NllLossBackward>)\n",
      "loss... tensor(0.0241, grad_fn=<NllLossBackward>)\n",
      "loss... tensor(0.0168, grad_fn=<NllLossBackward>)\n",
      "loss... tensor(0.0085, grad_fn=<NllLossBackward>)\n",
      "loss... tensor(0.0186, grad_fn=<NllLossBackward>)\n",
      "loss... tensor(0.0237, grad_fn=<NllLossBackward>)\n",
      "loss... tensor(0.0165, grad_fn=<NllLossBackward>)\n",
      "loss... tensor(0.0083, grad_fn=<NllLossBackward>)\n",
      "loss... tensor(0.0182, grad_fn=<NllLossBackward>)\n",
      "loss... tensor(0.0233, grad_fn=<NllLossBackward>)\n",
      "loss... tensor(0.0162, grad_fn=<NllLossBackward>)\n",
      "loss... tensor(0.0082, grad_fn=<NllLossBackward>)\n",
      "loss... tensor(0.0179, grad_fn=<NllLossBackward>)\n",
      "loss... tensor(0.0229, grad_fn=<NllLossBackward>)\n",
      "loss... tensor(0.0159, grad_fn=<NllLossBackward>)\n",
      "loss... tensor(0.0080, grad_fn=<NllLossBackward>)\n",
      "loss... tensor(0.0176, grad_fn=<NllLossBackward>)\n",
      "loss... tensor(0.0225, grad_fn=<NllLossBackward>)\n",
      "loss... tensor(0.0157, grad_fn=<NllLossBackward>)\n",
      "loss... tensor(0.0079, grad_fn=<NllLossBackward>)\n",
      "loss... tensor(0.0173, grad_fn=<NllLossBackward>)\n",
      "loss... tensor(0.0221, grad_fn=<NllLossBackward>)\n",
      "loss... tensor(0.0154, grad_fn=<NllLossBackward>)\n",
      "loss... tensor(0.0077, grad_fn=<NllLossBackward>)\n",
      "loss... tensor(0.0170, grad_fn=<NllLossBackward>)\n",
      "loss... tensor(0.0217, grad_fn=<NllLossBackward>)\n",
      "loss... tensor(0.0151, grad_fn=<NllLossBackward>)\n",
      "loss... tensor(0.0076, grad_fn=<NllLossBackward>)\n",
      "loss... tensor(0.0168, grad_fn=<NllLossBackward>)\n",
      "loss... tensor(0.0214, grad_fn=<NllLossBackward>)\n",
      "loss... tensor(0.0149, grad_fn=<NllLossBackward>)\n",
      "loss... tensor(0.0075, grad_fn=<NllLossBackward>)\n",
      "loss... tensor(0.0165, grad_fn=<NllLossBackward>)\n",
      "loss... tensor(0.0210, grad_fn=<NllLossBackward>)\n",
      "loss... tensor(0.0146, grad_fn=<NllLossBackward>)\n",
      "loss... tensor(0.0074, grad_fn=<NllLossBackward>)\n",
      "loss... tensor(0.0162, grad_fn=<NllLossBackward>)\n",
      "loss... tensor(0.0207, grad_fn=<NllLossBackward>)\n",
      "loss... tensor(0.0144, grad_fn=<NllLossBackward>)\n",
      "loss... tensor(0.0072, grad_fn=<NllLossBackward>)\n",
      "loss... tensor(0.0160, grad_fn=<NllLossBackward>)\n",
      "loss... tensor(0.0204, grad_fn=<NllLossBackward>)\n",
      "loss... tensor(0.0142, grad_fn=<NllLossBackward>)\n",
      "loss... tensor(0.0071, grad_fn=<NllLossBackward>)\n",
      "loss... tensor(0.0157, grad_fn=<NllLossBackward>)\n",
      "loss... tensor(0.0201, grad_fn=<NllLossBackward>)\n",
      "loss... tensor(0.0139, grad_fn=<NllLossBackward>)\n",
      "loss... tensor(0.0070, grad_fn=<NllLossBackward>)\n",
      "loss... tensor(0.0155, grad_fn=<NllLossBackward>)\n",
      "loss... tensor(0.0198, grad_fn=<NllLossBackward>)\n",
      "loss... tensor(0.0137, grad_fn=<NllLossBackward>)\n",
      "loss... tensor(0.0069, grad_fn=<NllLossBackward>)\n",
      "loss... tensor(0.0153, grad_fn=<NllLossBackward>)\n",
      "loss... tensor(0.0195, grad_fn=<NllLossBackward>)\n",
      "loss... tensor(0.0135, grad_fn=<NllLossBackward>)\n",
      "loss... tensor(0.0068, grad_fn=<NllLossBackward>)\n",
      "loss... tensor(0.0150, grad_fn=<NllLossBackward>)\n",
      "loss... tensor(0.0192, grad_fn=<NllLossBackward>)\n",
      "loss... tensor(0.0133, grad_fn=<NllLossBackward>)\n",
      "loss... tensor(0.0067, grad_fn=<NllLossBackward>)\n",
      "loss... tensor(0.0148, grad_fn=<NllLossBackward>)\n",
      "loss... tensor(0.0189, grad_fn=<NllLossBackward>)\n",
      "loss... tensor(0.0131, grad_fn=<NllLossBackward>)\n",
      "loss... tensor(0.0066, grad_fn=<NllLossBackward>)\n",
      "loss... tensor(0.0146, grad_fn=<NllLossBackward>)\n",
      "loss... tensor(0.0187, grad_fn=<NllLossBackward>)\n",
      "loss... tensor(0.0129, grad_fn=<NllLossBackward>)\n",
      "loss... tensor(0.0065, grad_fn=<NllLossBackward>)\n",
      "loss... tensor(0.0144, grad_fn=<NllLossBackward>)\n",
      "loss... tensor(0.0184, grad_fn=<NllLossBackward>)\n",
      "loss... tensor(0.0127, grad_fn=<NllLossBackward>)\n",
      "loss... tensor(0.0064, grad_fn=<NllLossBackward>)\n",
      "loss... tensor(0.0142, grad_fn=<NllLossBackward>)\n",
      "loss... tensor(0.0182, grad_fn=<NllLossBackward>)\n",
      "loss... tensor(0.0126, grad_fn=<NllLossBackward>)\n",
      "loss... tensor(0.0063, grad_fn=<NllLossBackward>)\n",
      "loss... tensor(0.0140, grad_fn=<NllLossBackward>)\n",
      "loss... tensor(0.0179, grad_fn=<NllLossBackward>)\n",
      "loss... tensor(0.0124, grad_fn=<NllLossBackward>)\n",
      "loss... tensor(0.0062, grad_fn=<NllLossBackward>)\n",
      "loss... tensor(0.0138, grad_fn=<NllLossBackward>)\n",
      "loss... tensor(0.0177, grad_fn=<NllLossBackward>)\n",
      "loss... tensor(0.0122, grad_fn=<NllLossBackward>)\n",
      "loss... tensor(0.0061, grad_fn=<NllLossBackward>)\n",
      "loss... tensor(0.0137, grad_fn=<NllLossBackward>)\n",
      "loss... tensor(0.0175, grad_fn=<NllLossBackward>)\n",
      "loss... tensor(0.0120, grad_fn=<NllLossBackward>)\n",
      "loss... tensor(0.0060, grad_fn=<NllLossBackward>)\n",
      "loss... tensor(0.0135, grad_fn=<NllLossBackward>)\n",
      "loss... tensor(0.0172, grad_fn=<NllLossBackward>)\n",
      "loss... tensor(0.0119, grad_fn=<NllLossBackward>)\n",
      "loss... tensor(0.0060, grad_fn=<NllLossBackward>)\n",
      "loss... tensor(0.0133, grad_fn=<NllLossBackward>)\n",
      "loss... tensor(0.0170, grad_fn=<NllLossBackward>)\n",
      "loss... tensor(0.0117, grad_fn=<NllLossBackward>)\n",
      "loss... tensor(0.0059, grad_fn=<NllLossBackward>)\n",
      "loss... tensor(0.0131, grad_fn=<NllLossBackward>)\n",
      "loss... tensor(0.0168, grad_fn=<NllLossBackward>)\n",
      "loss... tensor(0.0116, grad_fn=<NllLossBackward>)\n",
      "loss... tensor(0.0058, grad_fn=<NllLossBackward>)\n",
      "loss... tensor(0.0130, grad_fn=<NllLossBackward>)\n",
      "loss... tensor(0.0166, grad_fn=<NllLossBackward>)\n",
      "loss... tensor(0.0114, grad_fn=<NllLossBackward>)\n",
      "loss... tensor(0.0057, grad_fn=<NllLossBackward>)\n",
      "loss... tensor(0.0128, grad_fn=<NllLossBackward>)\n",
      "loss... tensor(0.0164, grad_fn=<NllLossBackward>)\n",
      "loss... tensor(0.0113, grad_fn=<NllLossBackward>)\n",
      "loss... tensor(0.0056, grad_fn=<NllLossBackward>)\n",
      "loss... tensor(0.0126, grad_fn=<NllLossBackward>)\n",
      "loss... tensor(0.0162, grad_fn=<NllLossBackward>)\n",
      "loss... tensor(0.0111, grad_fn=<NllLossBackward>)\n",
      "loss... tensor(0.0056, grad_fn=<NllLossBackward>)\n",
      "loss... tensor(0.0125, grad_fn=<NllLossBackward>)\n",
      "loss... tensor(0.0160, grad_fn=<NllLossBackward>)\n",
      "loss... tensor(0.0110, grad_fn=<NllLossBackward>)\n",
      "loss... tensor(0.0055, grad_fn=<NllLossBackward>)\n",
      "loss... tensor(0.0123, grad_fn=<NllLossBackward>)\n",
      "loss... tensor(0.0158, grad_fn=<NllLossBackward>)\n",
      "loss... tensor(0.0109, grad_fn=<NllLossBackward>)\n",
      "loss... tensor(0.0054, grad_fn=<NllLossBackward>)\n",
      "loss... tensor(0.0122, grad_fn=<NllLossBackward>)\n",
      "loss... tensor(0.0156, grad_fn=<NllLossBackward>)\n",
      "loss... tensor(0.0107, grad_fn=<NllLossBackward>)\n",
      "loss... tensor(0.0054, grad_fn=<NllLossBackward>)\n",
      "loss... tensor(0.0121, grad_fn=<NllLossBackward>)\n",
      "loss... tensor(0.0154, grad_fn=<NllLossBackward>)\n",
      "loss... tensor(0.0106, grad_fn=<NllLossBackward>)\n",
      "loss... tensor(0.0053, grad_fn=<NllLossBackward>)\n",
      "loss... tensor(0.0119, grad_fn=<NllLossBackward>)\n",
      "loss... tensor(0.0152, grad_fn=<NllLossBackward>)\n",
      "loss... tensor(0.0105, grad_fn=<NllLossBackward>)\n",
      "loss... tensor(0.0052, grad_fn=<NllLossBackward>)\n",
      "loss... tensor(0.0118, grad_fn=<NllLossBackward>)\n",
      "loss... tensor(0.0151, grad_fn=<NllLossBackward>)\n",
      "loss... tensor(0.0103, grad_fn=<NllLossBackward>)\n",
      "loss... tensor(0.0052, grad_fn=<NllLossBackward>)\n",
      "loss... tensor(0.0116, grad_fn=<NllLossBackward>)\n",
      "loss... tensor(0.0149, grad_fn=<NllLossBackward>)\n",
      "loss... tensor(0.0102, grad_fn=<NllLossBackward>)\n",
      "loss... tensor(0.0051, grad_fn=<NllLossBackward>)\n",
      "loss... tensor(0.0115, grad_fn=<NllLossBackward>)\n",
      "loss... tensor(0.0147, grad_fn=<NllLossBackward>)\n",
      "loss... tensor(0.0101, grad_fn=<NllLossBackward>)\n",
      "loss... tensor(0.0051, grad_fn=<NllLossBackward>)\n",
      "loss... tensor(0.0114, grad_fn=<NllLossBackward>)\n",
      "loss... tensor(0.0146, grad_fn=<NllLossBackward>)\n",
      "loss... tensor(0.0100, grad_fn=<NllLossBackward>)\n",
      "loss... tensor(0.0050, grad_fn=<NllLossBackward>)\n",
      "loss... tensor(0.0113, grad_fn=<NllLossBackward>)\n",
      "loss... tensor(0.0144, grad_fn=<NllLossBackward>)\n",
      "loss... tensor(0.0099, grad_fn=<NllLossBackward>)\n",
      "loss... tensor(0.0049, grad_fn=<NllLossBackward>)\n",
      "loss... tensor(0.0111, grad_fn=<NllLossBackward>)\n",
      "loss... tensor(0.0143, grad_fn=<NllLossBackward>)\n",
      "loss... tensor(0.0098, grad_fn=<NllLossBackward>)\n",
      "loss... tensor(0.0049, grad_fn=<NllLossBackward>)\n",
      "loss... tensor(0.0110, grad_fn=<NllLossBackward>)\n",
      "loss... tensor(0.0141, grad_fn=<NllLossBackward>)\n",
      "loss... tensor(0.0097, grad_fn=<NllLossBackward>)\n",
      "loss... tensor(0.0048, grad_fn=<NllLossBackward>)\n",
      "loss... tensor(0.0109, grad_fn=<NllLossBackward>)\n",
      "loss... tensor(0.0140, grad_fn=<NllLossBackward>)\n",
      "loss... tensor(0.0096, grad_fn=<NllLossBackward>)\n",
      "loss... tensor(0.0048, grad_fn=<NllLossBackward>)\n",
      "loss... tensor(0.0108, grad_fn=<NllLossBackward>)\n",
      "loss... tensor(0.0138, grad_fn=<NllLossBackward>)\n",
      "loss... tensor(0.0095, grad_fn=<NllLossBackward>)\n",
      "loss... tensor(0.0047, grad_fn=<NllLossBackward>)\n",
      "loss... tensor(0.0107, grad_fn=<NllLossBackward>)\n",
      "loss... tensor(0.0137, grad_fn=<NllLossBackward>)\n",
      "loss... tensor(0.0094, grad_fn=<NllLossBackward>)\n",
      "loss... tensor(0.0047, grad_fn=<NllLossBackward>)\n",
      "loss... tensor(0.0106, grad_fn=<NllLossBackward>)\n",
      "loss... tensor(0.0135, grad_fn=<NllLossBackward>)\n",
      "loss... tensor(0.0093, grad_fn=<NllLossBackward>)\n",
      "loss... tensor(0.0046, grad_fn=<NllLossBackward>)\n",
      "loss... tensor(0.0105, grad_fn=<NllLossBackward>)\n",
      "loss... tensor(0.0134, grad_fn=<NllLossBackward>)\n",
      "loss... tensor(0.0092, grad_fn=<NllLossBackward>)\n",
      "loss... tensor(0.0046, grad_fn=<NllLossBackward>)\n",
      "loss... tensor(0.0104, grad_fn=<NllLossBackward>)\n",
      "loss... tensor(0.0133, grad_fn=<NllLossBackward>)\n",
      "loss... tensor(0.0091, grad_fn=<NllLossBackward>)\n",
      "loss... tensor(0.0045, grad_fn=<NllLossBackward>)\n",
      "loss... tensor(0.0103, grad_fn=<NllLossBackward>)\n",
      "loss... tensor(0.0131, grad_fn=<NllLossBackward>)\n",
      "loss... tensor(0.0090, grad_fn=<NllLossBackward>)\n",
      "loss... tensor(0.0045, grad_fn=<NllLossBackward>)\n",
      "loss... tensor(0.0102, grad_fn=<NllLossBackward>)\n",
      "loss... tensor(0.0130, grad_fn=<NllLossBackward>)\n",
      "loss... tensor(0.0089, grad_fn=<NllLossBackward>)\n",
      "loss... tensor(0.0044, grad_fn=<NllLossBackward>)\n",
      "loss... tensor(0.0101, grad_fn=<NllLossBackward>)\n",
      "loss... tensor(0.0129, grad_fn=<NllLossBackward>)\n",
      "loss... tensor(0.0088, grad_fn=<NllLossBackward>)\n",
      "loss... tensor(0.0044, grad_fn=<NllLossBackward>)\n",
      "loss... tensor(0.0100, grad_fn=<NllLossBackward>)\n",
      "loss... tensor(0.0128, grad_fn=<NllLossBackward>)\n",
      "loss... tensor(0.0087, grad_fn=<NllLossBackward>)\n",
      "loss... tensor(0.0043, grad_fn=<NllLossBackward>)\n",
      "loss... tensor(0.0099, grad_fn=<NllLossBackward>)\n",
      "loss... tensor(0.0126, grad_fn=<NllLossBackward>)\n",
      "loss... tensor(0.0086, grad_fn=<NllLossBackward>)\n",
      "loss... tensor(0.0043, grad_fn=<NllLossBackward>)\n"
     ]
    },
    {
     "name": "stdout",
     "output_type": "stream",
     "text": [
      "loss... tensor(0.0098, grad_fn=<NllLossBackward>)\n",
      "loss... tensor(0.0125, grad_fn=<NllLossBackward>)\n",
      "loss... tensor(0.0085, grad_fn=<NllLossBackward>)\n",
      "loss... tensor(0.0043, grad_fn=<NllLossBackward>)\n",
      "loss... tensor(0.0097, grad_fn=<NllLossBackward>)\n",
      "loss... tensor(0.0124, grad_fn=<NllLossBackward>)\n",
      "loss... tensor(0.0085, grad_fn=<NllLossBackward>)\n",
      "loss... tensor(0.0042, grad_fn=<NllLossBackward>)\n",
      "loss... tensor(0.0096, grad_fn=<NllLossBackward>)\n",
      "loss... tensor(0.0123, grad_fn=<NllLossBackward>)\n",
      "loss... tensor(0.0084, grad_fn=<NllLossBackward>)\n",
      "loss... tensor(0.0042, grad_fn=<NllLossBackward>)\n",
      "loss... tensor(0.0095, grad_fn=<NllLossBackward>)\n",
      "loss... tensor(0.0122, grad_fn=<NllLossBackward>)\n",
      "loss... tensor(0.0083, grad_fn=<NllLossBackward>)\n",
      "loss... tensor(0.0041, grad_fn=<NllLossBackward>)\n",
      "loss... tensor(0.0094, grad_fn=<NllLossBackward>)\n",
      "loss... tensor(0.0121, grad_fn=<NllLossBackward>)\n",
      "loss... tensor(0.0082, grad_fn=<NllLossBackward>)\n",
      "loss... tensor(0.0041, grad_fn=<NllLossBackward>)\n",
      "loss... tensor(0.0093, grad_fn=<NllLossBackward>)\n",
      "loss... tensor(0.0120, grad_fn=<NllLossBackward>)\n",
      "loss... tensor(0.0082, grad_fn=<NllLossBackward>)\n",
      "loss... tensor(0.0041, grad_fn=<NllLossBackward>)\n",
      "loss... tensor(0.0092, grad_fn=<NllLossBackward>)\n",
      "loss... tensor(0.0118, grad_fn=<NllLossBackward>)\n",
      "loss... tensor(0.0081, grad_fn=<NllLossBackward>)\n",
      "loss... tensor(0.0040, grad_fn=<NllLossBackward>)\n",
      "loss... tensor(0.0092, grad_fn=<NllLossBackward>)\n",
      "loss... tensor(0.0117, grad_fn=<NllLossBackward>)\n",
      "loss... tensor(0.0080, grad_fn=<NllLossBackward>)\n",
      "loss... tensor(0.0040, grad_fn=<NllLossBackward>)\n",
      "loss... tensor(0.0091, grad_fn=<NllLossBackward>)\n",
      "loss... tensor(0.0116, grad_fn=<NllLossBackward>)\n",
      "loss... tensor(0.0079, grad_fn=<NllLossBackward>)\n",
      "loss... tensor(0.0040, grad_fn=<NllLossBackward>)\n",
      "loss... tensor(0.0090, grad_fn=<NllLossBackward>)\n",
      "loss... tensor(0.0115, grad_fn=<NllLossBackward>)\n",
      "loss... tensor(0.0079, grad_fn=<NllLossBackward>)\n",
      "loss... tensor(0.0039, grad_fn=<NllLossBackward>)\n",
      "loss... tensor(0.0089, grad_fn=<NllLossBackward>)\n",
      "loss... tensor(0.0114, grad_fn=<NllLossBackward>)\n",
      "loss... tensor(0.0078, grad_fn=<NllLossBackward>)\n",
      "loss... tensor(0.0039, grad_fn=<NllLossBackward>)\n",
      "loss... tensor(0.0088, grad_fn=<NllLossBackward>)\n",
      "loss... tensor(0.0113, grad_fn=<NllLossBackward>)\n",
      "loss... tensor(0.0077, grad_fn=<NllLossBackward>)\n",
      "loss... tensor(0.0038, grad_fn=<NllLossBackward>)\n",
      "loss... tensor(0.0088, grad_fn=<NllLossBackward>)\n",
      "loss... tensor(0.0112, grad_fn=<NllLossBackward>)\n",
      "loss... tensor(0.0077, grad_fn=<NllLossBackward>)\n",
      "loss... tensor(0.0038, grad_fn=<NllLossBackward>)\n",
      "loss... tensor(0.0087, grad_fn=<NllLossBackward>)\n",
      "loss... tensor(0.0112, grad_fn=<NllLossBackward>)\n",
      "loss... tensor(0.0076, grad_fn=<NllLossBackward>)\n",
      "loss... tensor(0.0038, grad_fn=<NllLossBackward>)\n",
      "loss... tensor(0.0086, grad_fn=<NllLossBackward>)\n",
      "loss... tensor(0.0111, grad_fn=<NllLossBackward>)\n",
      "loss... tensor(0.0075, grad_fn=<NllLossBackward>)\n",
      "loss... tensor(0.0037, grad_fn=<NllLossBackward>)\n",
      "loss... tensor(0.0086, grad_fn=<NllLossBackward>)\n",
      "loss... tensor(0.0110, grad_fn=<NllLossBackward>)\n",
      "loss... tensor(0.0075, grad_fn=<NllLossBackward>)\n",
      "loss... tensor(0.0037, grad_fn=<NllLossBackward>)\n",
      "loss... tensor(0.0085, grad_fn=<NllLossBackward>)\n",
      "loss... tensor(0.0109, grad_fn=<NllLossBackward>)\n",
      "loss... tensor(0.0074, grad_fn=<NllLossBackward>)\n",
      "loss... tensor(0.0037, grad_fn=<NllLossBackward>)\n",
      "loss... tensor(0.0084, grad_fn=<NllLossBackward>)\n",
      "loss... tensor(0.0108, grad_fn=<NllLossBackward>)\n",
      "loss... tensor(0.0073, grad_fn=<NllLossBackward>)\n",
      "loss... tensor(0.0037, grad_fn=<NllLossBackward>)\n",
      "loss... tensor(0.0083, grad_fn=<NllLossBackward>)\n",
      "loss... tensor(0.0107, grad_fn=<NllLossBackward>)\n",
      "loss... tensor(0.0073, grad_fn=<NllLossBackward>)\n",
      "loss... tensor(0.0036, grad_fn=<NllLossBackward>)\n",
      "loss... tensor(0.0083, grad_fn=<NllLossBackward>)\n",
      "loss... tensor(0.0106, grad_fn=<NllLossBackward>)\n",
      "loss... tensor(0.0072, grad_fn=<NllLossBackward>)\n",
      "loss... tensor(0.0036, grad_fn=<NllLossBackward>)\n",
      "loss... tensor(0.0082, grad_fn=<NllLossBackward>)\n",
      "loss... tensor(0.0105, grad_fn=<NllLossBackward>)\n",
      "loss... tensor(0.0072, grad_fn=<NllLossBackward>)\n",
      "loss... tensor(0.0036, grad_fn=<NllLossBackward>)\n",
      "loss... tensor(0.0081, grad_fn=<NllLossBackward>)\n",
      "loss... tensor(0.0105, grad_fn=<NllLossBackward>)\n",
      "loss... tensor(0.0071, grad_fn=<NllLossBackward>)\n",
      "loss... tensor(0.0035, grad_fn=<NllLossBackward>)\n",
      "loss... tensor(0.0081, grad_fn=<NllLossBackward>)\n",
      "loss... tensor(0.0104, grad_fn=<NllLossBackward>)\n",
      "loss... tensor(0.0070, grad_fn=<NllLossBackward>)\n",
      "loss... tensor(0.0035, grad_fn=<NllLossBackward>)\n",
      "loss... tensor(0.0080, grad_fn=<NllLossBackward>)\n",
      "loss... tensor(0.0103, grad_fn=<NllLossBackward>)\n",
      "loss... tensor(0.0070, grad_fn=<NllLossBackward>)\n",
      "loss... tensor(0.0035, grad_fn=<NllLossBackward>)\n",
      "loss... tensor(0.0080, grad_fn=<NllLossBackward>)\n",
      "loss... tensor(0.0102, grad_fn=<NllLossBackward>)\n",
      "loss... tensor(0.0069, grad_fn=<NllLossBackward>)\n",
      "loss... tensor(0.0034, grad_fn=<NllLossBackward>)\n",
      "loss... tensor(0.0079, grad_fn=<NllLossBackward>)\n",
      "loss... tensor(0.0101, grad_fn=<NllLossBackward>)\n",
      "loss... tensor(0.0069, grad_fn=<NllLossBackward>)\n",
      "loss... tensor(0.0034, grad_fn=<NllLossBackward>)\n",
      "loss... tensor(0.0078, grad_fn=<NllLossBackward>)\n",
      "loss... tensor(0.0101, grad_fn=<NllLossBackward>)\n",
      "loss... tensor(0.0068, grad_fn=<NllLossBackward>)\n",
      "loss... tensor(0.0034, grad_fn=<NllLossBackward>)\n",
      "loss... tensor(0.0078, grad_fn=<NllLossBackward>)\n",
      "loss... tensor(0.0100, grad_fn=<NllLossBackward>)\n",
      "loss... tensor(0.0068, grad_fn=<NllLossBackward>)\n",
      "loss... tensor(0.0034, grad_fn=<NllLossBackward>)\n",
      "loss... tensor(0.0077, grad_fn=<NllLossBackward>)\n",
      "loss... tensor(0.0099, grad_fn=<NllLossBackward>)\n",
      "loss... tensor(0.0067, grad_fn=<NllLossBackward>)\n",
      "loss... tensor(0.0033, grad_fn=<NllLossBackward>)\n",
      "loss... tensor(0.0077, grad_fn=<NllLossBackward>)\n",
      "loss... tensor(0.0098, grad_fn=<NllLossBackward>)\n",
      "loss... tensor(0.0067, grad_fn=<NllLossBackward>)\n",
      "loss... tensor(0.0033, grad_fn=<NllLossBackward>)\n",
      "loss... tensor(0.0076, grad_fn=<NllLossBackward>)\n",
      "loss... tensor(0.0098, grad_fn=<NllLossBackward>)\n",
      "loss... tensor(0.0066, grad_fn=<NllLossBackward>)\n",
      "loss... tensor(0.0033, grad_fn=<NllLossBackward>)\n",
      "loss... tensor(0.0075, grad_fn=<NllLossBackward>)\n",
      "loss... tensor(0.0097, grad_fn=<NllLossBackward>)\n",
      "loss... tensor(0.0066, grad_fn=<NllLossBackward>)\n",
      "loss... tensor(0.0033, grad_fn=<NllLossBackward>)\n",
      "loss... tensor(0.0075, grad_fn=<NllLossBackward>)\n",
      "loss... tensor(0.0096, grad_fn=<NllLossBackward>)\n",
      "loss... tensor(0.0065, grad_fn=<NllLossBackward>)\n",
      "loss... tensor(0.0032, grad_fn=<NllLossBackward>)\n",
      "loss... tensor(0.0074, grad_fn=<NllLossBackward>)\n",
      "loss... tensor(0.0095, grad_fn=<NllLossBackward>)\n",
      "loss... tensor(0.0065, grad_fn=<NllLossBackward>)\n",
      "loss... tensor(0.0032, grad_fn=<NllLossBackward>)\n",
      "loss... tensor(0.0074, grad_fn=<NllLossBackward>)\n",
      "loss... tensor(0.0095, grad_fn=<NllLossBackward>)\n",
      "loss... tensor(0.0064, grad_fn=<NllLossBackward>)\n",
      "loss... tensor(0.0032, grad_fn=<NllLossBackward>)\n",
      "loss... tensor(0.0073, grad_fn=<NllLossBackward>)\n",
      "loss... tensor(0.0094, grad_fn=<NllLossBackward>)\n",
      "loss... tensor(0.0064, grad_fn=<NllLossBackward>)\n",
      "loss... tensor(0.0032, grad_fn=<NllLossBackward>)\n",
      "loss... tensor(0.0073, grad_fn=<NllLossBackward>)\n",
      "loss... tensor(0.0093, grad_fn=<NllLossBackward>)\n",
      "loss... tensor(0.0063, grad_fn=<NllLossBackward>)\n",
      "loss... tensor(0.0031, grad_fn=<NllLossBackward>)\n",
      "loss... tensor(0.0072, grad_fn=<NllLossBackward>)\n",
      "loss... tensor(0.0093, grad_fn=<NllLossBackward>)\n",
      "loss... tensor(0.0063, grad_fn=<NllLossBackward>)\n",
      "loss... tensor(0.0031, grad_fn=<NllLossBackward>)\n",
      "loss... tensor(0.0072, grad_fn=<NllLossBackward>)\n",
      "loss... tensor(0.0092, grad_fn=<NllLossBackward>)\n",
      "loss... tensor(0.0062, grad_fn=<NllLossBackward>)\n",
      "loss... tensor(0.0031, grad_fn=<NllLossBackward>)\n",
      "loss... tensor(0.0071, grad_fn=<NllLossBackward>)\n",
      "loss... tensor(0.0092, grad_fn=<NllLossBackward>)\n",
      "loss... tensor(0.0062, grad_fn=<NllLossBackward>)\n",
      "loss... tensor(0.0031, grad_fn=<NllLossBackward>)\n",
      "loss... tensor(0.0071, grad_fn=<NllLossBackward>)\n",
      "loss... tensor(0.0091, grad_fn=<NllLossBackward>)\n",
      "loss... tensor(0.0062, grad_fn=<NllLossBackward>)\n",
      "loss... tensor(0.0031, grad_fn=<NllLossBackward>)\n",
      "loss... tensor(0.0070, grad_fn=<NllLossBackward>)\n",
      "loss... tensor(0.0090, grad_fn=<NllLossBackward>)\n",
      "loss... tensor(0.0061, grad_fn=<NllLossBackward>)\n",
      "loss... tensor(0.0030, grad_fn=<NllLossBackward>)\n",
      "loss... tensor(0.0070, grad_fn=<NllLossBackward>)\n",
      "loss... tensor(0.0090, grad_fn=<NllLossBackward>)\n",
      "loss... tensor(0.0061, grad_fn=<NllLossBackward>)\n",
      "loss... tensor(0.0030, grad_fn=<NllLossBackward>)\n",
      "loss... tensor(0.0069, grad_fn=<NllLossBackward>)\n",
      "loss... tensor(0.0089, grad_fn=<NllLossBackward>)\n",
      "loss... tensor(0.0060, grad_fn=<NllLossBackward>)\n",
      "loss... tensor(0.0030, grad_fn=<NllLossBackward>)\n",
      "loss... tensor(0.0069, grad_fn=<NllLossBackward>)\n",
      "loss... tensor(0.0088, grad_fn=<NllLossBackward>)\n",
      "loss... tensor(0.0060, grad_fn=<NllLossBackward>)\n",
      "loss... tensor(0.0030, grad_fn=<NllLossBackward>)\n",
      "loss... tensor(0.0068, grad_fn=<NllLossBackward>)\n",
      "loss... tensor(0.0088, grad_fn=<NllLossBackward>)\n",
      "loss... tensor(0.0060, grad_fn=<NllLossBackward>)\n",
      "loss... tensor(0.0030, grad_fn=<NllLossBackward>)\n",
      "loss... tensor(0.0068, grad_fn=<NllLossBackward>)\n",
      "loss... tensor(0.0087, grad_fn=<NllLossBackward>)\n",
      "loss... tensor(0.0059, grad_fn=<NllLossBackward>)\n",
      "loss... tensor(0.0029, grad_fn=<NllLossBackward>)\n",
      "loss... tensor(0.0068, grad_fn=<NllLossBackward>)\n",
      "loss... tensor(0.0087, grad_fn=<NllLossBackward>)\n",
      "loss... tensor(0.0059, grad_fn=<NllLossBackward>)\n",
      "loss... tensor(0.0029, grad_fn=<NllLossBackward>)\n",
      "loss... tensor(0.0067, grad_fn=<NllLossBackward>)\n",
      "loss... tensor(0.0086, grad_fn=<NllLossBackward>)\n",
      "loss... tensor(0.0058, grad_fn=<NllLossBackward>)\n",
      "loss... tensor(0.0029, grad_fn=<NllLossBackward>)\n",
      "loss... tensor(0.0067, grad_fn=<NllLossBackward>)\n",
      "loss... tensor(0.0086, grad_fn=<NllLossBackward>)\n",
      "loss... tensor(0.0058, grad_fn=<NllLossBackward>)\n",
      "loss... tensor(0.0029, grad_fn=<NllLossBackward>)\n",
      "loss... tensor(0.0066, grad_fn=<NllLossBackward>)\n",
      "loss... tensor(0.0085, grad_fn=<NllLossBackward>)\n",
      "loss... tensor(0.0058, grad_fn=<NllLossBackward>)\n",
      "loss... tensor(0.0029, grad_fn=<NllLossBackward>)\n",
      "loss... tensor(0.0066, grad_fn=<NllLossBackward>)\n",
      "loss... tensor(0.0085, grad_fn=<NllLossBackward>)\n",
      "loss... tensor(0.0057, grad_fn=<NllLossBackward>)\n",
      "loss... tensor(0.0028, grad_fn=<NllLossBackward>)\n",
      "loss... tensor(0.0065, grad_fn=<NllLossBackward>)\n",
      "loss... tensor(0.0084, grad_fn=<NllLossBackward>)\n",
      "loss... tensor(0.0057, grad_fn=<NllLossBackward>)\n",
      "loss... tensor(0.0028, grad_fn=<NllLossBackward>)\n",
      "loss... tensor(0.0065, grad_fn=<NllLossBackward>)\n",
      "loss... tensor(0.0083, grad_fn=<NllLossBackward>)\n",
      "loss... tensor(0.0056, grad_fn=<NllLossBackward>)\n",
      "loss... tensor(0.0028, grad_fn=<NllLossBackward>)\n",
      "loss... tensor(0.0065, grad_fn=<NllLossBackward>)\n",
      "loss... tensor(0.0083, grad_fn=<NllLossBackward>)\n",
      "loss... tensor(0.0056, grad_fn=<NllLossBackward>)\n",
      "loss... tensor(0.0028, grad_fn=<NllLossBackward>)\n",
      "loss... tensor(0.0064, grad_fn=<NllLossBackward>)\n",
      "loss... tensor(0.0082, grad_fn=<NllLossBackward>)\n",
      "loss... tensor(0.0056, grad_fn=<NllLossBackward>)\n",
      "loss... tensor(0.0028, grad_fn=<NllLossBackward>)\n",
      "loss... tensor(0.0064, grad_fn=<NllLossBackward>)\n",
      "loss... tensor(0.0082, grad_fn=<NllLossBackward>)\n",
      "loss... tensor(0.0055, grad_fn=<NllLossBackward>)\n",
      "loss... tensor(0.0027, grad_fn=<NllLossBackward>)\n",
      "loss... tensor(0.0063, grad_fn=<NllLossBackward>)\n",
      "loss... tensor(0.0081, grad_fn=<NllLossBackward>)\n",
      "loss... tensor(0.0055, grad_fn=<NllLossBackward>)\n",
      "loss... tensor(0.0027, grad_fn=<NllLossBackward>)\n",
      "loss... tensor(0.0063, grad_fn=<NllLossBackward>)\n",
      "loss... tensor(0.0081, grad_fn=<NllLossBackward>)\n",
      "loss... tensor(0.0055, grad_fn=<NllLossBackward>)\n",
      "loss... tensor(0.0027, grad_fn=<NllLossBackward>)\n",
      "loss... tensor(0.0063, grad_fn=<NllLossBackward>)\n",
      "loss... tensor(0.0080, grad_fn=<NllLossBackward>)\n",
      "loss... tensor(0.0054, grad_fn=<NllLossBackward>)\n",
      "loss... tensor(0.0027, grad_fn=<NllLossBackward>)\n",
      "loss... tensor(0.0062, grad_fn=<NllLossBackward>)\n",
      "loss... tensor(0.0080, grad_fn=<NllLossBackward>)\n",
      "loss... tensor(0.0054, grad_fn=<NllLossBackward>)\n",
      "loss... tensor(0.0027, grad_fn=<NllLossBackward>)\n",
      "loss... tensor(0.0062, grad_fn=<NllLossBackward>)\n",
      "loss... tensor(0.0079, grad_fn=<NllLossBackward>)\n",
      "loss... tensor(0.0054, grad_fn=<NllLossBackward>)\n",
      "loss... tensor(0.0027, grad_fn=<NllLossBackward>)\n",
      "loss... tensor(0.0062, grad_fn=<NllLossBackward>)\n",
      "loss... tensor(0.0079, grad_fn=<NllLossBackward>)\n",
      "loss... tensor(0.0053, grad_fn=<NllLossBackward>)\n",
      "loss... tensor(0.0026, grad_fn=<NllLossBackward>)\n",
      "loss... tensor(0.0061, grad_fn=<NllLossBackward>)\n",
      "loss... tensor(0.0079, grad_fn=<NllLossBackward>)\n",
      "loss... tensor(0.0053, grad_fn=<NllLossBackward>)\n",
      "loss... tensor(0.0026, grad_fn=<NllLossBackward>)\n",
      "loss... tensor(0.0061, grad_fn=<NllLossBackward>)\n",
      "loss... tensor(0.0078, grad_fn=<NllLossBackward>)\n",
      "loss... tensor(0.0053, grad_fn=<NllLossBackward>)\n",
      "loss... tensor(0.0026, grad_fn=<NllLossBackward>)\n",
      "loss... tensor(0.0060, grad_fn=<NllLossBackward>)\n",
      "loss... tensor(0.0078, grad_fn=<NllLossBackward>)\n",
      "loss... tensor(0.0052, grad_fn=<NllLossBackward>)\n",
      "loss... tensor(0.0026, grad_fn=<NllLossBackward>)\n",
      "loss... tensor(0.0060, grad_fn=<NllLossBackward>)\n",
      "loss... tensor(0.0077, grad_fn=<NllLossBackward>)\n",
      "loss... tensor(0.0052, grad_fn=<NllLossBackward>)\n",
      "loss... tensor(0.0026, grad_fn=<NllLossBackward>)\n",
      "loss... tensor(0.0060, grad_fn=<NllLossBackward>)\n",
      "loss... tensor(0.0077, grad_fn=<NllLossBackward>)\n",
      "loss... tensor(0.0052, grad_fn=<NllLossBackward>)\n",
      "loss... tensor(0.0026, grad_fn=<NllLossBackward>)\n",
      "loss... tensor(0.0059, grad_fn=<NllLossBackward>)\n",
      "loss... tensor(0.0076, grad_fn=<NllLossBackward>)\n",
      "loss... tensor(0.0052, grad_fn=<NllLossBackward>)\n",
      "loss... tensor(0.0026, grad_fn=<NllLossBackward>)\n",
      "loss... tensor(0.0059, grad_fn=<NllLossBackward>)\n",
      "loss... tensor(0.0076, grad_fn=<NllLossBackward>)\n",
      "loss... tensor(0.0051, grad_fn=<NllLossBackward>)\n",
      "loss... tensor(0.0025, grad_fn=<NllLossBackward>)\n",
      "loss... tensor(0.0059, grad_fn=<NllLossBackward>)\n",
      "loss... tensor(0.0075, grad_fn=<NllLossBackward>)\n",
      "loss... tensor(0.0051, grad_fn=<NllLossBackward>)\n",
      "loss... tensor(0.0025, grad_fn=<NllLossBackward>)\n",
      "loss... tensor(0.0058, grad_fn=<NllLossBackward>)\n",
      "loss... tensor(0.0075, grad_fn=<NllLossBackward>)\n",
      "loss... tensor(0.0051, grad_fn=<NllLossBackward>)\n",
      "loss... tensor(0.0025, grad_fn=<NllLossBackward>)\n",
      "loss... tensor(0.0058, grad_fn=<NllLossBackward>)\n",
      "loss... tensor(0.0075, grad_fn=<NllLossBackward>)\n",
      "loss... tensor(0.0050, grad_fn=<NllLossBackward>)\n",
      "loss... tensor(0.0025, grad_fn=<NllLossBackward>)\n",
      "loss... tensor(0.0058, grad_fn=<NllLossBackward>)\n",
      "loss... tensor(0.0074, grad_fn=<NllLossBackward>)\n",
      "loss... tensor(0.0050, grad_fn=<NllLossBackward>)\n",
      "loss... tensor(0.0025, grad_fn=<NllLossBackward>)\n",
      "loss... tensor(0.0057, grad_fn=<NllLossBackward>)\n",
      "loss... tensor(0.0074, grad_fn=<NllLossBackward>)\n",
      "loss... tensor(0.0050, grad_fn=<NllLossBackward>)\n",
      "loss... tensor(0.0025, grad_fn=<NllLossBackward>)\n",
      "loss... tensor(0.0057, grad_fn=<NllLossBackward>)\n",
      "loss... tensor(0.0073, grad_fn=<NllLossBackward>)\n",
      "loss... tensor(0.0049, grad_fn=<NllLossBackward>)\n",
      "loss... tensor(0.0025, grad_fn=<NllLossBackward>)\n",
      "loss... tensor(0.0057, grad_fn=<NllLossBackward>)\n",
      "loss... tensor(0.0073, grad_fn=<NllLossBackward>)\n",
      "loss... tensor(0.0049, grad_fn=<NllLossBackward>)\n",
      "loss... tensor(0.0024, grad_fn=<NllLossBackward>)\n",
      "loss... tensor(0.0056, grad_fn=<NllLossBackward>)\n",
      "loss... tensor(0.0073, grad_fn=<NllLossBackward>)\n",
      "loss... tensor(0.0049, grad_fn=<NllLossBackward>)\n",
      "loss... tensor(0.0024, grad_fn=<NllLossBackward>)\n",
      "loss... tensor(0.0056, grad_fn=<NllLossBackward>)\n",
      "loss... tensor(0.0072, grad_fn=<NllLossBackward>)\n",
      "loss... tensor(0.0049, grad_fn=<NllLossBackward>)\n",
      "loss... tensor(0.0024, grad_fn=<NllLossBackward>)\n",
      "loss... tensor(0.0056, grad_fn=<NllLossBackward>)\n",
      "loss... tensor(0.0072, grad_fn=<NllLossBackward>)\n",
      "loss... tensor(0.0048, grad_fn=<NllLossBackward>)\n",
      "loss... tensor(0.0024, grad_fn=<NllLossBackward>)\n",
      "loss... tensor(0.0056, grad_fn=<NllLossBackward>)\n",
      "loss... tensor(0.0071, grad_fn=<NllLossBackward>)\n",
      "loss... tensor(0.0048, grad_fn=<NllLossBackward>)\n",
      "loss... tensor(0.0024, grad_fn=<NllLossBackward>)\n",
      "loss... tensor(0.0055, grad_fn=<NllLossBackward>)\n",
      "loss... tensor(0.0071, grad_fn=<NllLossBackward>)\n",
      "loss... tensor(0.0048, grad_fn=<NllLossBackward>)\n",
      "loss... tensor(0.0024, grad_fn=<NllLossBackward>)\n",
      "loss... tensor(0.0055, grad_fn=<NllLossBackward>)\n",
      "loss... tensor(0.0071, grad_fn=<NllLossBackward>)\n",
      "loss... tensor(0.0048, grad_fn=<NllLossBackward>)\n",
      "loss... tensor(0.0024, grad_fn=<NllLossBackward>)\n",
      "loss... tensor(0.0055, grad_fn=<NllLossBackward>)\n",
      "loss... tensor(0.0070, grad_fn=<NllLossBackward>)\n",
      "loss... tensor(0.0047, grad_fn=<NllLossBackward>)\n",
      "loss... tensor(0.0023, grad_fn=<NllLossBackward>)\n",
      "loss... tensor(0.0054, grad_fn=<NllLossBackward>)\n",
      "loss... tensor(0.0070, grad_fn=<NllLossBackward>)\n",
      "loss... tensor(0.0047, grad_fn=<NllLossBackward>)\n",
      "loss... tensor(0.0023, grad_fn=<NllLossBackward>)\n",
      "loss... tensor(0.0054, grad_fn=<NllLossBackward>)\n",
      "loss... tensor(0.0070, grad_fn=<NllLossBackward>)\n",
      "loss... tensor(0.0047, grad_fn=<NllLossBackward>)\n",
      "loss... tensor(0.0023, grad_fn=<NllLossBackward>)\n",
      "loss... tensor(0.0054, grad_fn=<NllLossBackward>)\n",
      "loss... tensor(0.0069, grad_fn=<NllLossBackward>)\n",
      "loss... tensor(0.0047, grad_fn=<NllLossBackward>)\n",
      "loss... tensor(0.0023, grad_fn=<NllLossBackward>)\n",
      "loss... tensor(0.0054, grad_fn=<NllLossBackward>)\n",
      "loss... tensor(0.0069, grad_fn=<NllLossBackward>)\n",
      "loss... tensor(0.0046, grad_fn=<NllLossBackward>)\n",
      "loss... tensor(0.0023, grad_fn=<NllLossBackward>)\n",
      "loss... tensor(0.0053, grad_fn=<NllLossBackward>)\n",
      "loss... tensor(0.0068, grad_fn=<NllLossBackward>)\n",
      "loss... tensor(0.0046, grad_fn=<NllLossBackward>)\n",
      "loss... tensor(0.0023, grad_fn=<NllLossBackward>)\n",
      "loss... tensor(0.0053, grad_fn=<NllLossBackward>)\n",
      "loss... tensor(0.0068, grad_fn=<NllLossBackward>)\n",
      "loss... tensor(0.0046, grad_fn=<NllLossBackward>)\n",
      "loss... tensor(0.0023, grad_fn=<NllLossBackward>)\n",
      "loss... tensor(0.0053, grad_fn=<NllLossBackward>)\n",
      "loss... tensor(0.0068, grad_fn=<NllLossBackward>)\n",
      "loss... tensor(0.0046, grad_fn=<NllLossBackward>)\n",
      "loss... tensor(0.0023, grad_fn=<NllLossBackward>)\n",
      "loss... tensor(0.0052, grad_fn=<NllLossBackward>)\n",
      "loss... tensor(0.0067, grad_fn=<NllLossBackward>)\n",
      "loss... tensor(0.0045, grad_fn=<NllLossBackward>)\n",
      "loss... tensor(0.0022, grad_fn=<NllLossBackward>)\n",
      "loss... tensor(0.0052, grad_fn=<NllLossBackward>)\n",
      "loss... tensor(0.0067, grad_fn=<NllLossBackward>)\n",
      "loss... tensor(0.0045, grad_fn=<NllLossBackward>)\n",
      "loss... tensor(0.0022, grad_fn=<NllLossBackward>)\n",
      "loss... tensor(0.0052, grad_fn=<NllLossBackward>)\n",
      "loss... tensor(0.0067, grad_fn=<NllLossBackward>)\n",
      "loss... tensor(0.0045, grad_fn=<NllLossBackward>)\n",
      "loss... tensor(0.0022, grad_fn=<NllLossBackward>)\n",
      "loss... tensor(0.0052, grad_fn=<NllLossBackward>)\n",
      "loss... tensor(0.0066, grad_fn=<NllLossBackward>)\n",
      "loss... tensor(0.0045, grad_fn=<NllLossBackward>)\n",
      "loss... tensor(0.0022, grad_fn=<NllLossBackward>)\n",
      "loss... tensor(0.0051, grad_fn=<NllLossBackward>)\n",
      "loss... tensor(0.0066, grad_fn=<NllLossBackward>)\n",
      "loss... tensor(0.0044, grad_fn=<NllLossBackward>)\n",
      "loss... tensor(0.0022, grad_fn=<NllLossBackward>)\n"
     ]
    }
   ],
   "source": [
    "for epoch in range(200):\n",
    "  for instance, label in data:\n",
    "    model.zero_grad()\n",
    "\n",
    "    bow_vec = make_bow_vector(instance, word_to_ix)\n",
    "    target = make_target(label, label_to_ix)\n",
    "\n",
    "    log_probs = model(bow_vec)\n",
    "    loss = loss_function(log_probs, target)\n",
    "    print('loss...', loss)\n",
    "    loss.backward()\n",
    "    optimizer.step()"
   ]
  },
  {
   "cell_type": "code",
   "execution_count": 32,
   "metadata": {
    "colab": {
     "base_uri": "https://localhost:8080/"
    },
    "executionInfo": {
     "elapsed": 625,
     "status": "ok",
     "timestamp": 1686584614380,
     "user": {
      "displayName": "atanu maity",
      "userId": "05429035846975438358"
     },
     "user_tz": -330
    },
    "id": "TzhtDAPUlO-6",
    "outputId": "8910f83f-a2f3-4bdc-b2e0-939f1efa58d0"
   },
   "outputs": [
    {
     "name": "stdout",
     "output_type": "stream",
     "text": [
      "tensor([[-0.1164, -2.2087]])\n",
      "tensor([[-3.3730, -0.0349]])\n"
     ]
    }
   ],
   "source": [
    "with torch.no_grad():\n",
    "    for instance, label in test_data:\n",
    "        bow_vec = make_bow_vector(instance, word_to_ix)\n",
    "        log_probs = model(bow_vec)\n",
    "        print(log_probs)"
   ]
  },
  {
   "cell_type": "code",
   "execution_count": 33,
   "metadata": {
    "colab": {
     "base_uri": "https://localhost:8080/"
    },
    "executionInfo": {
     "elapsed": 7,
     "status": "ok",
     "timestamp": 1686558199541,
     "user": {
      "displayName": "atanu maity",
      "userId": "05429035846975438358"
     },
     "user_tz": -330
    },
    "id": "rnCGPMGss3YZ",
    "outputId": "d42d24a8-537f-487e-fe87-0b0d55a35ddc"
   },
   "outputs": [
    {
     "name": "stdout",
     "output_type": "stream",
     "text": [
      "tensor([ 0.3491, -0.6502], grad_fn=<SelectBackward>)\n"
     ]
    }
   ],
   "source": [
    "print(next(model.parameters())[:, word_to_ix[\"creo\"]])"
   ]
  },
  {
   "cell_type": "code",
   "execution_count": null,
   "metadata": {
    "id": "FAhFukFWtQFD"
   },
   "outputs": [],
   "source": []
  }
 ],
 "metadata": {
  "colab": {
   "authorship_tag": "ABX9TyMTpyaWqQ7VbGg8CLp8J09f",
   "gpuType": "T4",
   "provenance": []
  },
  "kernelspec": {
   "display_name": "Python 3",
   "language": "python",
   "name": "python3"
  },
  "language_info": {
   "codemirror_mode": {
    "name": "ipython",
    "version": 3
   },
   "file_extension": ".py",
   "mimetype": "text/x-python",
   "name": "python",
   "nbconvert_exporter": "python",
   "pygments_lexer": "ipython3",
   "version": "3.6.9"
  }
 },
 "nbformat": 4,
 "nbformat_minor": 1
}
